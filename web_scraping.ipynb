{
 "cells": [
  {
   "cell_type": "code",
   "execution_count": 11,
   "id": "793d8ff6",
   "metadata": {},
   "outputs": [],
   "source": [
    "import requests\n",
    "responses = requests.get('https://fbref.com/en/comps/9/Premier-League-Stats')\n"
   ]
  },
  {
   "cell_type": "code",
   "execution_count": 12,
   "id": "4fe833e5",
   "metadata": {},
   "outputs": [],
   "source": [
    "from bs4 import BeautifulSoup\n",
    "\n",
    "sp = BeautifulSoup(responses.content, 'html.parser')\n",
    "soup = BeautifulSoup(responses.text)\n",
    "table_states = soup.select('table.stats_table')[0]"
   ]
  },
  {
   "cell_type": "code",
   "execution_count": 72,
   "id": "e386c123",
   "metadata": {},
   "outputs": [
    {
     "name": "stdout",
     "output_type": "stream",
     "text": [
      "['/en/squads/822bd0ba/Liverpool-Stats', '/en/squads/cff3d9bb/Chelsea-Stats', '/en/squads/18bb7c10/Arsenal-Stats', '/en/squads/361ca564/Tottenham-Hotspur-Stats', '/en/squads/d3fd31cc/Everton-Stats', '/en/squads/8ef52968/Sunderland-Stats', '/en/squads/4ba7cbea/Bournemouth-Stats', '/en/squads/47c64c55/Crystal-Palace-Stats', '/en/squads/19538871/Manchester-United-Stats', '/en/squads/e4a775cb/Nottingham-Forest-Stats', '/en/squads/d07537b9/Brighton-and-Hove-Albion-Stats', '/en/squads/5bfb9659/Leeds-United-Stats', '/en/squads/b8fd03ef/Manchester-City-Stats', '/en/squads/943e8050/Burnley-Stats', '/en/squads/cd051869/Brentford-Stats', '/en/squads/7c21e445/West-Ham-United-Stats', '/en/squads/b2b47a98/Newcastle-United-Stats', '/en/squads/fd962109/Fulham-Stats', '/en/squads/8602292d/Aston-Villa-Stats', '/en/squads/8cec06e1/Wolverhampton-Wanderers-Stats']\n"
     ]
    }
   ],
   "source": [
    "table_states\n",
    "links = table_states.find_all('a')\n",
    "links = [l.get(\"href\") for l in links ]\n",
    "links = [l for l in links if '/squads/' in l]\n",
    "print(links)\n"
   ]
  },
  {
   "cell_type": "code",
   "execution_count": 75,
   "id": "2c76f72c-9611-4a11-9955-efa847382209",
   "metadata": {},
   "outputs": [],
   "source": [
    "f_url = [f\"https://fbref.com{l}\" for l in links]"
   ]
  },
  {
   "cell_type": "code",
   "execution_count": 76,
   "id": "4428f150",
   "metadata": {},
   "outputs": [
    {
     "data": {
      "text/plain": [
       "['https://fbref.com/en/squads/822bd0ba/Liverpool-Stats',\n",
       " 'https://fbref.com/en/squads/cff3d9bb/Chelsea-Stats',\n",
       " 'https://fbref.com/en/squads/18bb7c10/Arsenal-Stats',\n",
       " 'https://fbref.com/en/squads/361ca564/Tottenham-Hotspur-Stats',\n",
       " 'https://fbref.com/en/squads/d3fd31cc/Everton-Stats',\n",
       " 'https://fbref.com/en/squads/8ef52968/Sunderland-Stats',\n",
       " 'https://fbref.com/en/squads/4ba7cbea/Bournemouth-Stats',\n",
       " 'https://fbref.com/en/squads/47c64c55/Crystal-Palace-Stats',\n",
       " 'https://fbref.com/en/squads/19538871/Manchester-United-Stats',\n",
       " 'https://fbref.com/en/squads/e4a775cb/Nottingham-Forest-Stats',\n",
       " 'https://fbref.com/en/squads/d07537b9/Brighton-and-Hove-Albion-Stats',\n",
       " 'https://fbref.com/en/squads/5bfb9659/Leeds-United-Stats',\n",
       " 'https://fbref.com/en/squads/b8fd03ef/Manchester-City-Stats',\n",
       " 'https://fbref.com/en/squads/943e8050/Burnley-Stats',\n",
       " 'https://fbref.com/en/squads/cd051869/Brentford-Stats',\n",
       " 'https://fbref.com/en/squads/7c21e445/West-Ham-United-Stats',\n",
       " 'https://fbref.com/en/squads/b2b47a98/Newcastle-United-Stats',\n",
       " 'https://fbref.com/en/squads/fd962109/Fulham-Stats',\n",
       " 'https://fbref.com/en/squads/8602292d/Aston-Villa-Stats',\n",
       " 'https://fbref.com/en/squads/8cec06e1/Wolverhampton-Wanderers-Stats']"
      ]
     },
     "execution_count": 76,
     "metadata": {},
     "output_type": "execute_result"
    }
   ],
   "source": [
    "f_url"
   ]
  },
  {
   "cell_type": "code",
   "execution_count": null,
   "id": "3e7f53b0",
   "metadata": {},
   "outputs": [],
   "source": []
  }
 ],
 "metadata": {
  "kernelspec": {
   "display_name": "Python 3 (ipykernel)",
   "language": "python",
   "name": "python3"
  },
  "language_info": {
   "codemirror_mode": {
    "name": "ipython",
    "version": 3
   },
   "file_extension": ".py",
   "mimetype": "text/x-python",
   "name": "python",
   "nbconvert_exporter": "python",
   "pygments_lexer": "ipython3",
   "version": "3.12.3"
  }
 },
 "nbformat": 4,
 "nbformat_minor": 5
}
